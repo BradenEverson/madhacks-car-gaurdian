{
 "cells": [
  {
   "cell_type": "markdown",
   "id": "c9a5359c",
   "metadata": {},
   "source": [
    "# Sample CNN Jupyter Notebook Code\n",
    "This Jupyter Notebook will have a focus on Convolution Neural Networks and how to best implement them using Python. This Jupyter Notebook serves as a guide with regards to performing object detection using different convolutional layers.\n",
    "\n",
    "### Introduction to Keras\n",
    "Keras is a simple to use Deep Learning library tool in Python. Here, we'll build a simple Convolution Netural Network and train it to solve a real problem with Keras. To do this, we start off with a Computer Vision problem. We use the MNIST handwritten digit classification from the MNIST database. We use a image, and then classify it as a digit."
   ]
  },
  {
   "cell_type": "markdown",
   "id": "488c4872",
   "metadata": {},
   "source": [
    "## Importing Libraries\n",
    "Using a python installation, we download the packages `numpy`, `keras`, `mnist`, `matplotlib` and `tensorflow`."
   ]
  },
  {
   "cell_type": "code",
   "execution_count": 14,
   "id": "dc568da7",
   "metadata": {},
   "outputs": [],
   "source": [
    "# importing all necessary libraries\n",
    "import numpy as np\n",
    "import mnist\n",
    "import matplotlib.pyplot as plt\n",
    "import tensorflow as tf\n",
    "\n",
    "# importing keras\n",
    "from tensorflow import keras\n",
    "\n",
    "# keras imports\n",
    "from keras.datasets import mnist\n",
    "from keras.utils import to_categorical\n",
    "from keras.models import Sequential\n",
    "from keras.layers import Dense, Conv2D, Flatten, Input"
   ]
  },
  {
   "cell_type": "markdown",
   "id": "745421a4",
   "metadata": {},
   "source": [
    "Next up, we write the following lines of code that load up the training images and labels from the MNIST database, which is a very popular dataset of handwritten digits, which is often used to train and test image classification models."
   ]
  },
  {
   "cell_type": "code",
   "execution_count": 15,
   "id": "64a774ff",
   "metadata": {},
   "outputs": [],
   "source": [
    "# download mnist data and split into train and test sets\n",
    "(X_train, y_train), (X_test, y_test) = mnist.load_data()"
   ]
  },
  {
   "cell_type": "code",
   "execution_count": 16,
   "id": "1d22e405",
   "metadata": {},
   "outputs": [
    {
     "data": {
      "text/plain": [
       "<matplotlib.image.AxesImage at 0x7f839f1d1790>"
      ]
     },
     "execution_count": 16,
     "metadata": {},
     "output_type": "execute_result"
    },
    {
     "data": {
      "image/png": "[encoded data removed]",
      "text/plain": [
       "<Figure size 640x480 with 1 Axes>"
      ]
     },
     "metadata": {},
     "output_type": "display_data"
    }
   ],
   "source": [
    "#plot the first image in the dataset\n",
    "plt.imshow(X_train[0])"
   ]
  },
  {
   "cell_type": "code",
   "execution_count": 17,
   "id": "597939ae",
   "metadata": {},
   "outputs": [
    {
     "data": {
      "text/plain": [
       "(28, 28)"
      ]
     },
     "execution_count": 17,
     "metadata": {},
     "output_type": "execute_result"
    }
   ],
   "source": [
    "#check image shape\n",
    "X_train[0].shape"
   ]
  },
  {
   "cell_type": "markdown",
   "id": "bfae28b5",
   "metadata": {},
   "source": [
    "## Data Pre-Processing\n",
    "Next, we need to reshape our dataset inputs (`X_train` and `X_test`) to the shape that our model expects when we train the model. The first number is the number of images (60,000 for `X_train` and `10,000` for `X_test`). Next, comes the shape of each image (28 x 28). Last number is 1, which signifies that the images are greyscale. "
   ]
  },
  {
   "cell_type": "code",
   "execution_count": 18,
   "id": "af9fcb2f",
   "metadata": {},
   "outputs": [],
   "source": [
    "#reshape data to fit model\n",
    "X_train = X_train.reshape(60000,28,28,1)\n",
    "X_test = X_test.reshape(10000,28,28,1)"
   ]
  },
  {
   "cell_type": "markdown",
   "id": "da3b8005",
   "metadata": {},
   "source": [
    "### One-Hot Encoding\n",
    "Next up, we one-hot encode the target variable. This means a column is created for each output category and a binary variable is inputted for each category. "
   ]
  },
  {
   "cell_type": "code",
   "execution_count": 19,
   "id": "f175c2f8",
   "metadata": {},
   "outputs": [
    {
     "data": {
      "text/plain": [
       "array([0., 0., 0., 0., 0., 1., 0., 0., 0., 0.])"
      ]
     },
     "execution_count": 19,
     "metadata": {},
     "output_type": "execute_result"
    }
   ],
   "source": [
    "#one-hot encode target column\n",
    "y_train = to_categorical(y_train)\n",
    "y_test = to_categorical(y_test)\n",
    "y_train[0]"
   ]
  },
  {
   "cell_type": "markdown",
   "id": "840a0ae5",
   "metadata": {},
   "source": [
    "## Building the Model\n",
    "Next up, we create a sequential model in Keras, which means that the layers will be added one after another, like a chain. Then, we add our first convolution layer by doing `model.add()` Here are the following details:\n",
    "\n",
    "`model.add(Input(shape=(28, 28, 1)))`: adds an input layer which tells the neural network to expect input data with the shape of `(28, 28, 1)`, which matches the shape of the MNIST dataset images. Each image is `28 x 28` and is grayscaled with `1`\n",
    "\n",
    "\n",
    "`model.add(Conv2D(64, kernel_size=3, activation='relu'))`\n",
    "- `64` means 64 filters used to process the image. Each filter will look for different patterns in the image (like edges)\n",
    "- `kernel_size=3` the filter will be a 3x3 square, which means it will look a 3x3 area of the image at a time\n",
    "- `activation=relu` this is the activatoin function (ReLU) which helps the model decide which features are important\n",
    "- `input_shape=(28, 28, 1)` this specifies the shape of the input images. Each image is `28 x 28` and is grayscaled with `1`\n",
    "\n",
    "\n",
    "`model.add(Flatten())`: the flatten layer converts the multi-dimensional data into a 1D vector. \n",
    "`model.add(Dense(10, activation='softmax'))`: the `Dense` layer is a fully connected layer, which means each neuron in this layer is connected to every neuron in the previous layer. The layer uses `10` neurons, and the `softmax` activation function is used to convert the raw output scores into probabilities"
   ]
  },
  {
   "cell_type": "code",
   "execution_count": 20,
   "id": "b83c4c62",
   "metadata": {},
   "outputs": [],
   "source": [
    "# create model\n",
    "model = Sequential()\n",
    "\n",
    "# Add Input layer \n",
    "model.add(Input(shape=(28, 28, 1)))\n",
    "\n",
    "# add model layers\n",
    "model.add(Conv2D(64, kernel_size=3, activation='relu'))\n",
    "model.add(Conv2D(32, kernel_size=3, activation='relu'))\n",
    "model.add(Flatten())\n",
    "model.add(Dense(10, activation='softmax'))"
   ]
  },
  {
   "cell_type": "markdown",
   "id": "21b2d8cf",
   "metadata": {},
   "source": [
    "## Compiling the Model\n",
    "We now compile the mode. In order to compile the model, we take three parameters: optimizer, loss and metrics. For this, `optimizer` controls the learning rate, `learning rate` determines how fast the optimal weights for the model are calculated. Lastly, we use the `accuracy` metric to see the accuracy score on the validation set when we train the model. "
   ]
  },
  {
   "cell_type": "code",
   "execution_count": 21,
   "id": "387278f2",
   "metadata": {},
   "outputs": [],
   "source": [
    "#compile model using accuracy to measure model performance\n",
    "model.compile(optimizer='adam', loss='categorical_crossentropy', metrics=['accuracy'])"
   ]
  },
  {
   "cell_type": "markdown",
   "id": "e8fb01a4",
   "metadata": {},
   "source": [
    "## Training the Model\n",
    "Now, we train the model. We use `fit()` function on our model with the parameters of training data `X-train`, target data `y_train`, validation data and the number of epochs."
   ]
  },
  {
   "cell_type": "code",
   "execution_count": 22,
   "id": "681630e5",
   "metadata": {},
   "outputs": [
    {
     "name": "stdout",
     "output_type": "stream",
     "text": [
      "Epoch 1/3\n",
      "\u001b[1m1875/1875\u001b[0m \u001b[32m━━━━━━━━━━━━━━━━━━━━\u001b[0m\u001b[37m\u001b[0m \u001b[1m6s\u001b[0m 3ms/step - accuracy: 0.9135 - loss: 1.2944 - val_accuracy: 0.9666 - val_loss: 0.1005\n",
      "Epoch 2/3\n",
      "\u001b[1m1875/1875\u001b[0m \u001b[32m━━━━━━━━━━━━━━━━━━━━\u001b[0m\u001b[37m\u001b[0m \u001b[1m4s\u001b[0m 2ms/step - accuracy: 0.9806 - loss: 0.0635 - val_accuracy: 0.9769 - val_loss: 0.0838\n",
      "Epoch 3/3\n",
      "\u001b[1m1875/1875\u001b[0m \u001b[32m━━━━━━━━━━━━━━━━━━━━\u001b[0m\u001b[37m\u001b[0m \u001b[1m4s\u001b[0m 2ms/step - accuracy: 0.9857 - loss: 0.0449 - val_accuracy: 0.9716 - val_loss: 0.1150\n"
     ]
    },
    {
     "data": {
      "text/plain": [
       "<keras.src.callbacks.history.History at 0x7f83a4d7ac70>"
      ]
     },
     "execution_count": 22,
     "metadata": {},
     "output_type": "execute_result"
    }
   ],
   "source": [
    "#train the model\n",
    "model.fit(X_train, y_train, validation_data=(X_test, y_test), epochs=3)"
   ]
  },
  {
   "cell_type": "markdown",
   "id": "80ce5599",
   "metadata": {},
   "source": [
    "## Making Predictions\n",
    "Lastly, we use the predict function. The predict function gives an array of 10 numbers. These numbers are probabilities that the input image represents each digit (0-9). The array index with the higest number represents the model prediction. "
   ]
  },
  {
   "cell_type": "code",
   "execution_count": 23,
   "id": "eb885684",
   "metadata": {},
   "outputs": [
    {
     "name": "stdout",
     "output_type": "stream",
     "text": [
      "\u001b[1m1/1\u001b[0m \u001b[32m━━━━━━━━━━━━━━━━━━━━\u001b[0m\u001b[37m\u001b[0m \u001b[1m0s\u001b[0m 204ms/step\n"
     ]
    },
    {
     "data": {
      "text/plain": [
       "array([[2.3648321e-12, 1.6704969e-16, 1.1043984e-09, 8.3387391e-07,\n",
       "        2.6184282e-13, 2.8306100e-15, 3.3664558e-19, 9.9999917e-01,\n",
       "        2.7169477e-11, 7.9108676e-13],\n",
       "       [1.0098424e-09, 9.8509245e-09, 9.9999893e-01, 8.7809161e-07,\n",
       "        2.3264281e-12, 4.0128681e-15, 2.0312884e-08, 3.1991392e-17,\n",
       "        1.8529863e-07, 3.6764495e-15],\n",
       "       [1.8219300e-05, 9.6926427e-01, 2.2677109e-02, 1.3791361e-06,\n",
       "        4.8433756e-03, 2.6692183e-05, 3.1869371e-05, 1.4731007e-06,\n",
       "        3.1350343e-03, 3.3917621e-07],\n",
       "       [9.9999738e-01, 4.9987975e-14, 2.3928455e-06, 9.1744327e-11,\n",
       "        1.5122483e-09, 9.0753893e-10, 1.9954038e-08, 6.4060901e-12,\n",
       "        3.3080621e-08, 2.4790833e-07]], dtype=float32)"
      ]
     },
     "execution_count": 23,
     "metadata": {},
     "output_type": "execute_result"
    }
   ],
   "source": [
    "#predict first 4 images in the test set\n",
    "model.predict(X_test[:4])"
   ]
  },
  {
   "cell_type": "code",
   "execution_count": 24,
   "id": "dc7a796b",
   "metadata": {},
   "outputs": [
    {
     "data": {
      "text/plain": [
       "array([[0., 0., 0., 0., 0., 0., 0., 1., 0., 0.],\n",
       "       [0., 0., 1., 0., 0., 0., 0., 0., 0., 0.],\n",
       "       [0., 1., 0., 0., 0., 0., 0., 0., 0., 0.],\n",
       "       [1., 0., 0., 0., 0., 0., 0., 0., 0., 0.]])"
      ]
     },
     "execution_count": 24,
     "metadata": {},
     "output_type": "execute_result"
    }
   ],
   "source": [
    "#actual results for first 4 images in test set\n",
    "y_test[:4]"
   ]
  },
  {
   "cell_type": "markdown",
   "id": "106af3ea",
   "metadata": {},
   "source": [
    "When comparing the predictions with the actual images, we can see that the model predicted correctly."
   ]
  }
 ],
 "metadata": {
  "kernelspec": {
   "display_name": "madhacks",
   "language": "python",
   "name": "madhacks"
  },
  "language_info": {
   "codemirror_mode": {
    "name": "ipython",
    "version": 3
   },
   "file_extension": ".py",
   "mimetype": "text/x-python",
   "name": "python",
   "nbconvert_exporter": "python",
   "pygments_lexer": "ipython3",
   "version": "3.9.20"
  }
 },
 "nbformat": 4,
 "nbformat_minor": 5
}
